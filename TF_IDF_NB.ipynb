{
  "nbformat": 4,
  "nbformat_minor": 0,
  "metadata": {
    "colab": {
      "provenance": []
    },
    "kernelspec": {
      "name": "python3",
      "display_name": "Python 3"
    },
    "language_info": {
      "name": "python"
    }
  },
  "cells": [
    {
      "cell_type": "code",
      "execution_count": null,
      "metadata": {
        "id": "6juprWBOOjp0"
      },
      "outputs": [],
      "source": [
        "from sklearn.feature_extraction.text import TfidfVectorizer\n",
        "from sklearn.naive_bayes import MultinomialNB\n",
        "from sklearn.pipeline import make_pipeline"
      ]
    },
    {
      "cell_type": "code",
      "source": [
        "questions = [\n",
        "    \"What is a binary search tree?\",\n",
        "    \"Define a linked list.\",\n",
        "    \"What is a hash table?\",\n",
        "    \"List the types of data structures.\",\n",
        "    \"What is a queue?\",\n",
        "    \"What is a stack?\",\n",
        "    \"Define a graph.\",\n",
        "    \"What is an array?\",\n",
        "    \"What is the purpose of a priority queue?\",\n",
        "    \"What is a heap?\",\n",
        "    \"How does a hash table work?\",\n",
        "    \"Describe how a binary search works.\",\n",
        "    \"Explain the concept of dynamic programming.\",\n",
        "    \"What are the advantages of using a linked list over an array?\",\n",
        "    \"Explain the difference between a stack and a queue.\",\n",
        "    \"How does a breadth-first search work?\",\n",
        "    \"Describe the process of depth-first search.\",\n",
        "    \"What is the difference between a binary tree and a binary search tree?\",\n",
        "    \"Explain how a circular queue works.\",\n",
        "    \"Describe the working of a merge sort algorithm.\",\n",
        "    \"Implement a function to reverse a linked list.\",\n",
        "    \"Write code to perform binary search on a sorted array.\",\n",
        "    \"Implement a function to insert a node into a binary search tree.\",\n",
        "    \"Write a program to sort an array using quicksort.\",\n",
        "    \"Implement a hash table with basic operations like insert, delete, and search.\",\n",
        "    \"Write a function to check if a given binary tree is a binary search tree.\",\n",
        "    \"Implement a stack using an array.\",\n",
        "    \"Write a function to find the shortest path in a graph using Dijkstra’s algorithm.\",\n",
        "    \"Implement a queue using two stacks.\",\n",
        "    \"Write a program to merge two sorted linked lists.\",\n",
        "    \"Compare and contrast arrays and linked lists.\",\n",
        "    \"Analyze the time complexity of quicksort.\",\n",
        "    \"Discuss the pros and cons of using recursion vs. iteration.\",\n",
        "    \"Compare depth-first search and breadth-first search in terms of space and time complexity.\",\n",
        "    \"Analyze the worst-case scenario of a hash table with chaining.\",\n",
        "    \"Compare different types of tree traversal methods.\",\n",
        "    \"Analyze the space complexity of dynamic programming solutions.\",\n",
        "    \"Compare the efficiency of merge sort and quicksort.\",\n",
        "    \"Discuss the differences between singly linked lists and doubly linked lists.\",\n",
        "    \"Analyze the impact of choosing different pivot selection strategies in quicksort.\",\n",
        "    \"Evaluate the use of hash tables vs. binary search trees for search operations.\",\n",
        "    \"Critique the efficiency of bubble sort and suggest improvements.\",\n",
        "    \"Evaluate the pros and cons of using heaps for implementing priority queues.\",\n",
        "    \"Assess the trade-offs between using adjacency lists vs. adjacency matrices for graph representations.\",\n",
        "    \"Evaluate the effectiveness of dynamic programming in solving optimization problems.\",\n",
        "    \"Compare the performance of different sorting algorithms on various types of data.\",\n",
        "    \"Assess the impact of tree balancing on search operations in binary search trees.\",\n",
        "    \"Critically evaluate the use of recursion for tree traversals.\",\n",
        "    \"Discuss the scalability of various graph traversal algorithms.\",\n",
        "    \"Evaluate the performance of different collision resolution techniques in hash tables.\",\n",
        "    \"Design a data structure to support the implementation of an LRU (Least Recently Used) cache.\",\n",
        "    \"Develop a new algorithm for sorting a nearly sorted array.\",\n",
        "    \"Create a data structure to efficiently support range minimum queries.\",\n",
        "    \"Design a system to manage a dynamic set of intervals and support queries for interval overlaps.\",\n",
        "    \"Develop a graph algorithm to detect cycles in a directed graph.\",\n",
        "    \"Create an optimized version of the Dijkstra’s algorithm for sparse graphs.\",\n",
        "    \"Design a custom heap that supports a decrease-key operation efficiently.\",\n",
        "    \"Develop a data structure for maintaining a dynamic median of a stream of integers.\",\n",
        "    \"Create a new balanced binary search tree algorithm.\",\n",
        "    \"Design a parallel algorithm for matrix multiplication using divide-and-conquer.\"\n",
        "]\n",
        "\n"
      ],
      "metadata": {
        "id": "ZtJBnM-uPVSN"
      },
      "execution_count": null,
      "outputs": []
    },
    {
      "cell_type": "code",
      "source": [
        "labels = [\n",
        "    \"Remembering\", \"Remembering\", \"Remembering\", \"Remembering\", \"Remembering\",\n",
        "    \"Remembering\", \"Remembering\", \"Remembering\", \"Remembering\", \"Remembering\",\n",
        "    \"Understanding\", \"Understanding\", \"Understanding\", \"Understanding\", \"Understanding\",\n",
        "    \"Understanding\", \"Understanding\", \"Understanding\", \"Understanding\", \"Understanding\",\n",
        "    \"Applying\", \"Applying\", \"Applying\", \"Applying\", \"Applying\",\n",
        "    \"Applying\", \"Applying\", \"Applying\", \"Applying\", \"Applying\",\n",
        "    \"Analyzing\", \"Analyzing\", \"Analyzing\", \"Analyzing\", \"Analyzing\",\n",
        "    \"Analyzing\", \"Analyzing\", \"Analyzing\", \"Analyzing\", \"Analyzing\",\n",
        "    \"Evaluating\", \"Evaluating\", \"Evaluating\", \"Evaluating\", \"Evaluating\",\n",
        "    \"Evaluating\", \"Evaluating\", \"Evaluating\", \"Evaluating\", \"Evaluating\",\n",
        "    \"Creating\", \"Creating\", \"Creating\", \"Creating\", \"Creating\",\n",
        "    \"Creating\", \"Creating\", \"Creating\", \"Creating\", \"Creating\"\n",
        "]"
      ],
      "metadata": {
        "id": "w3Qjz69A0eiA"
      },
      "execution_count": null,
      "outputs": []
    },
    {
      "cell_type": "code",
      "source": [
        "model = make_pipeline(TfidfVectorizer(), MultinomialNB())\n"
      ],
      "metadata": {
        "id": "rZYzzr6JPayv"
      },
      "execution_count": null,
      "outputs": []
    },
    {
      "cell_type": "code",
      "source": [
        "model.fit(questions, labels)\n"
      ],
      "metadata": {
        "colab": {
          "base_uri": "https://localhost:8080/",
          "height": 125
        },
        "id": "JS-BFCTcPeDO",
        "outputId": "5e114f61-612a-4977-c637-65275bcb67e8"
      },
      "execution_count": null,
      "outputs": [
        {
          "output_type": "execute_result",
          "data": {
            "text/plain": [
              "Pipeline(steps=[('tfidfvectorizer', TfidfVectorizer()),\n",
              "                ('multinomialnb', MultinomialNB())])"
            ],
            "text/html": [
              "<style>#sk-container-id-3 {color: black;background-color: white;}#sk-container-id-3 pre{padding: 0;}#sk-container-id-3 div.sk-toggleable {background-color: white;}#sk-container-id-3 label.sk-toggleable__label {cursor: pointer;display: block;width: 100%;margin-bottom: 0;padding: 0.3em;box-sizing: border-box;text-align: center;}#sk-container-id-3 label.sk-toggleable__label-arrow:before {content: \"▸\";float: left;margin-right: 0.25em;color: #696969;}#sk-container-id-3 label.sk-toggleable__label-arrow:hover:before {color: black;}#sk-container-id-3 div.sk-estimator:hover label.sk-toggleable__label-arrow:before {color: black;}#sk-container-id-3 div.sk-toggleable__content {max-height: 0;max-width: 0;overflow: hidden;text-align: left;background-color: #f0f8ff;}#sk-container-id-3 div.sk-toggleable__content pre {margin: 0.2em;color: black;border-radius: 0.25em;background-color: #f0f8ff;}#sk-container-id-3 input.sk-toggleable__control:checked~div.sk-toggleable__content {max-height: 200px;max-width: 100%;overflow: auto;}#sk-container-id-3 input.sk-toggleable__control:checked~label.sk-toggleable__label-arrow:before {content: \"▾\";}#sk-container-id-3 div.sk-estimator input.sk-toggleable__control:checked~label.sk-toggleable__label {background-color: #d4ebff;}#sk-container-id-3 div.sk-label input.sk-toggleable__control:checked~label.sk-toggleable__label {background-color: #d4ebff;}#sk-container-id-3 input.sk-hidden--visually {border: 0;clip: rect(1px 1px 1px 1px);clip: rect(1px, 1px, 1px, 1px);height: 1px;margin: -1px;overflow: hidden;padding: 0;position: absolute;width: 1px;}#sk-container-id-3 div.sk-estimator {font-family: monospace;background-color: #f0f8ff;border: 1px dotted black;border-radius: 0.25em;box-sizing: border-box;margin-bottom: 0.5em;}#sk-container-id-3 div.sk-estimator:hover {background-color: #d4ebff;}#sk-container-id-3 div.sk-parallel-item::after {content: \"\";width: 100%;border-bottom: 1px solid gray;flex-grow: 1;}#sk-container-id-3 div.sk-label:hover label.sk-toggleable__label {background-color: #d4ebff;}#sk-container-id-3 div.sk-serial::before {content: \"\";position: absolute;border-left: 1px solid gray;box-sizing: border-box;top: 0;bottom: 0;left: 50%;z-index: 0;}#sk-container-id-3 div.sk-serial {display: flex;flex-direction: column;align-items: center;background-color: white;padding-right: 0.2em;padding-left: 0.2em;position: relative;}#sk-container-id-3 div.sk-item {position: relative;z-index: 1;}#sk-container-id-3 div.sk-parallel {display: flex;align-items: stretch;justify-content: center;background-color: white;position: relative;}#sk-container-id-3 div.sk-item::before, #sk-container-id-3 div.sk-parallel-item::before {content: \"\";position: absolute;border-left: 1px solid gray;box-sizing: border-box;top: 0;bottom: 0;left: 50%;z-index: -1;}#sk-container-id-3 div.sk-parallel-item {display: flex;flex-direction: column;z-index: 1;position: relative;background-color: white;}#sk-container-id-3 div.sk-parallel-item:first-child::after {align-self: flex-end;width: 50%;}#sk-container-id-3 div.sk-parallel-item:last-child::after {align-self: flex-start;width: 50%;}#sk-container-id-3 div.sk-parallel-item:only-child::after {width: 0;}#sk-container-id-3 div.sk-dashed-wrapped {border: 1px dashed gray;margin: 0 0.4em 0.5em 0.4em;box-sizing: border-box;padding-bottom: 0.4em;background-color: white;}#sk-container-id-3 div.sk-label label {font-family: monospace;font-weight: bold;display: inline-block;line-height: 1.2em;}#sk-container-id-3 div.sk-label-container {text-align: center;}#sk-container-id-3 div.sk-container {/* jupyter's `normalize.less` sets `[hidden] { display: none; }` but bootstrap.min.css set `[hidden] { display: none !important; }` so we also need the `!important` here to be able to override the default hidden behavior on the sphinx rendered scikit-learn.org. See: https://github.com/scikit-learn/scikit-learn/issues/21755 */display: inline-block !important;position: relative;}#sk-container-id-3 div.sk-text-repr-fallback {display: none;}</style><div id=\"sk-container-id-3\" class=\"sk-top-container\"><div class=\"sk-text-repr-fallback\"><pre>Pipeline(steps=[(&#x27;tfidfvectorizer&#x27;, TfidfVectorizer()),\n",
              "                (&#x27;multinomialnb&#x27;, MultinomialNB())])</pre><b>In a Jupyter environment, please rerun this cell to show the HTML representation or trust the notebook. <br />On GitHub, the HTML representation is unable to render, please try loading this page with nbviewer.org.</b></div><div class=\"sk-container\" hidden><div class=\"sk-item sk-dashed-wrapped\"><div class=\"sk-label-container\"><div class=\"sk-label sk-toggleable\"><input class=\"sk-toggleable__control sk-hidden--visually\" id=\"sk-estimator-id-7\" type=\"checkbox\" ><label for=\"sk-estimator-id-7\" class=\"sk-toggleable__label sk-toggleable__label-arrow\">Pipeline</label><div class=\"sk-toggleable__content\"><pre>Pipeline(steps=[(&#x27;tfidfvectorizer&#x27;, TfidfVectorizer()),\n",
              "                (&#x27;multinomialnb&#x27;, MultinomialNB())])</pre></div></div></div><div class=\"sk-serial\"><div class=\"sk-item\"><div class=\"sk-estimator sk-toggleable\"><input class=\"sk-toggleable__control sk-hidden--visually\" id=\"sk-estimator-id-8\" type=\"checkbox\" ><label for=\"sk-estimator-id-8\" class=\"sk-toggleable__label sk-toggleable__label-arrow\">TfidfVectorizer</label><div class=\"sk-toggleable__content\"><pre>TfidfVectorizer()</pre></div></div></div><div class=\"sk-item\"><div class=\"sk-estimator sk-toggleable\"><input class=\"sk-toggleable__control sk-hidden--visually\" id=\"sk-estimator-id-9\" type=\"checkbox\" ><label for=\"sk-estimator-id-9\" class=\"sk-toggleable__label sk-toggleable__label-arrow\">MultinomialNB</label><div class=\"sk-toggleable__content\"><pre>MultinomialNB()</pre></div></div></div></div></div></div></div>"
            ]
          },
          "metadata": {},
          "execution_count": 28
        }
      ]
    },
    {
      "cell_type": "code",
      "source": [
        "new_questions = [\n",
        "    \"Describe how a binary search works.\",\n",
        "    \"Implement a function to reverse a linked list.\",\n",
        "    \"Compare and contrast arrays and linked lists.\",\n",
        "    \"What is a binary search tree?\",\n",
        "    \"Write code to find the nth Fibonacci number using dynamic programming.\",\n",
        "    \"Explain and write code for binary tree.\",\n",
        "    \"Use table and differentiate stack and queue.\",\n",
        "    \"Write basic concepts of stack and queue and also write code for both.\",\n",
        "    \"How to make binary tree. Also implement binary tree and write code.\",\n",
        "    \"Can you use linked list at the place of array.\",\n",
        "    \"Apply and design algorithm for linked list and array.\",\n",
        "]"
      ],
      "metadata": {
        "id": "kXBzObn5PibW"
      },
      "execution_count": null,
      "outputs": []
    },
    {
      "cell_type": "code",
      "source": [
        "predicted_labels = model.predict(new_questions)"
      ],
      "metadata": {
        "id": "a6DdFtA_PlN3"
      },
      "execution_count": null,
      "outputs": []
    },
    {
      "cell_type": "code",
      "source": [
        "for question, label in zip(new_questions, predicted_labels):\n",
        "    print(f\"Question: {question}\\nPredicted Label: {label}\\n\")"
      ],
      "metadata": {
        "colab": {
          "base_uri": "https://localhost:8080/"
        },
        "id": "4taj7C08PnQ3",
        "outputId": "1deef261-532c-44e7-e419-737cc4d4b7e3"
      },
      "execution_count": null,
      "outputs": [
        {
          "output_type": "stream",
          "name": "stdout",
          "text": [
            "Question: Describe how a binary search works.\n",
            "Predicted Label: Understanding\n",
            "\n",
            "Question: Implement a function to reverse a linked list.\n",
            "Predicted Label: Applying\n",
            "\n",
            "Question: Compare and contrast arrays and linked lists.\n",
            "Predicted Label: Analyzing\n",
            "\n",
            "Question: What is a binary search tree?\n",
            "Predicted Label: Remembering\n",
            "\n",
            "Question: Write code to find the nth Fibonacci number using dynamic programming.\n",
            "Predicted Label: Applying\n",
            "\n",
            "Question: Explain and write code for binary tree.\n",
            "Predicted Label: Applying\n",
            "\n",
            "Question: Use table and differentiate stack and queue.\n",
            "Predicted Label: Understanding\n",
            "\n",
            "Question: Write basic concepts of stack and queue and also write code for both.\n",
            "Predicted Label: Applying\n",
            "\n",
            "Question: How to make binary tree. Also implement binary tree and write code.\n",
            "Predicted Label: Applying\n",
            "\n",
            "Question: Can you use linked list at the place of array.\n",
            "Predicted Label: Remembering\n",
            "\n",
            "Question: Apply and design algorithm for linked list and array.\n",
            "Predicted Label: Creating\n",
            "\n"
          ]
        }
      ]
    }
  ]
}