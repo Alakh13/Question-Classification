{
  "nbformat": 4,
  "nbformat_minor": 0,
  "metadata": {
    "colab": {
      "provenance": []
    },
    "kernelspec": {
      "name": "python3",
      "display_name": "Python 3"
    },
    "language_info": {
      "name": "python"
    }
  },
  "cells": [
    {
      "cell_type": "code",
      "execution_count": null,
      "metadata": {
        "id": "PAcIC4GiJBLT"
      },
      "outputs": [],
      "source": [
        "import nltk\n",
        "from nltk.tokenize import word_tokenize\n",
        "from nltk.corpus import stopwords\n",
        "from nltk.stem import WordNetLemmatizer\n",
        "import string"
      ]
    },
    {
      "cell_type": "code",
      "source": [
        "nltk.download('punkt')\n",
        "nltk.download('stopwords')\n",
        "nltk.download('wordnet')"
      ],
      "metadata": {
        "colab": {
          "base_uri": "https://localhost:8080/"
        },
        "id": "WCqCBkagQhbA",
        "outputId": "b7be33d8-8c20-4aa3-f12a-c28a3b21260a"
      },
      "execution_count": null,
      "outputs": [
        {
          "output_type": "stream",
          "name": "stderr",
          "text": [
            "[nltk_data] Downloading package punkt to /root/nltk_data...\n",
            "[nltk_data]   Unzipping tokenizers/punkt.zip.\n",
            "[nltk_data] Downloading package stopwords to /root/nltk_data...\n",
            "[nltk_data]   Unzipping corpora/stopwords.zip.\n",
            "[nltk_data] Downloading package wordnet to /root/nltk_data...\n"
          ]
        },
        {
          "output_type": "execute_result",
          "data": {
            "text/plain": [
              "True"
            ]
          },
          "metadata": {},
          "execution_count": 2
        }
      ]
    },
    {
      "cell_type": "code",
      "source": [
        "def preprocess(text):\n",
        "    tokens = word_tokenize(text)\n",
        "    tokens = [word.lower() for word in tokens if word.isalpha()]\n",
        "    stop_words = set(stopwords.words('english'))\n",
        "    tokens = [word for word in tokens if word not in stop_words]\n",
        "    lemmatizer = WordNetLemmatizer()\n",
        "    tokens = [lemmatizer.lemmatize(word) for word in tokens]\n",
        "    return tokens"
      ],
      "metadata": {
        "id": "_3DHEltwQnP5"
      },
      "execution_count": null,
      "outputs": []
    },
    {
      "cell_type": "code",
      "source": [
        "questions = [\n",
        "    \"What is a binary tree?\",\n",
        "    \"How does a stack differ from a queue?\",\n",
        "    \"Explain the concept of a hash table.\",\n",
        "    \"Define a heap and explain its usage.\",\n",
        "]"
      ],
      "metadata": {
        "id": "4OJk_iYGQqHp"
      },
      "execution_count": null,
      "outputs": []
    },
    {
      "cell_type": "code",
      "source": [
        "labels = [1, 4, 2, 1]"
      ],
      "metadata": {
        "id": "bP5Q4JpXQszJ"
      },
      "execution_count": null,
      "outputs": []
    },
    {
      "cell_type": "code",
      "source": [
        "processed_questions = [\" \".join(preprocess(question)) for question in questions]\n",
        "print(processed_questions)"
      ],
      "metadata": {
        "colab": {
          "base_uri": "https://localhost:8080/"
        },
        "id": "WRi7qCVFRMBr",
        "outputId": "efd64e3c-530e-4a68-964c-20e5ecfc8064"
      },
      "execution_count": null,
      "outputs": [
        {
          "output_type": "stream",
          "name": "stdout",
          "text": [
            "['binary tree', 'stack differ queue', 'explain concept hash table', 'define heap explain usage']\n"
          ]
        }
      ]
    },
    {
      "cell_type": "markdown",
      "source": [
        "Modified TF-IDF"
      ],
      "metadata": {
        "id": "FKr6fbiVRWV6"
      }
    },
    {
      "cell_type": "code",
      "source": [
        "from sklearn.feature_extraction.text import TfidfVectorizer"
      ],
      "metadata": {
        "id": "BdfDKd9RRZyB"
      },
      "execution_count": null,
      "outputs": []
    },
    {
      "cell_type": "code",
      "source": [
        "vectorizer = TfidfVectorizer()\n",
        "tfidf_matrix = vectorizer.fit_transform(processed_questions)\n",
        "print(tfidf_matrix.toarray())"
      ],
      "metadata": {
        "colab": {
          "base_uri": "https://localhost:8080/"
        },
        "id": "jH0IWjyTRd0B",
        "outputId": "ae1db68b-e7a7-476b-fe21-653af4cd1fec"
      },
      "execution_count": null,
      "outputs": [
        {
          "output_type": "stream",
          "name": "stdout",
          "text": [
            "[[0.70710678 0.         0.         0.         0.         0.\n",
            "  0.         0.         0.         0.         0.70710678 0.        ]\n",
            " [0.         0.         0.         0.57735027 0.         0.\n",
            "  0.         0.57735027 0.57735027 0.         0.         0.        ]\n",
            " [0.         0.52547275 0.         0.         0.41428875 0.52547275\n",
            "  0.         0.         0.         0.52547275 0.         0.        ]\n",
            " [0.         0.         0.52547275 0.         0.41428875 0.\n",
            "  0.52547275 0.         0.         0.         0.         0.52547275]]\n"
          ]
        }
      ]
    },
    {
      "cell_type": "markdown",
      "source": [
        "Word2Vec Embeddings"
      ],
      "metadata": {
        "id": "uEdyTYoWRmiR"
      }
    },
    {
      "cell_type": "code",
      "source": [
        "from gensim.models import Word2Vec"
      ],
      "metadata": {
        "id": "dGWpiQZbRqxg"
      },
      "execution_count": null,
      "outputs": []
    },
    {
      "cell_type": "code",
      "source": [
        "sentences = [preprocess(question) for question in questions]\n",
        "word2vec_model = Word2Vec(sentences, vector_size=100, window=5, min_count=1, workers=4)\n"
      ],
      "metadata": {
        "id": "r0y21fGqRvax"
      },
      "execution_count": null,
      "outputs": []
    },
    {
      "cell_type": "code",
      "source": [
        "word = 'binary'\n",
        "embedding = word2vec_model.wv[word]\n",
        "print(embedding)"
      ],
      "metadata": {
        "colab": {
          "base_uri": "https://localhost:8080/"
        },
        "id": "LzG_-ONZR0tQ",
        "outputId": "7900adec-12dc-4f94-c378-6a2ecd6a1249"
      },
      "execution_count": null,
      "outputs": [
        {
          "output_type": "stream",
          "name": "stdout",
          "text": [
            "[ 9.7702928e-03  8.1651136e-03  1.2809718e-03  5.0975787e-03\n",
            "  1.4081288e-03 -6.4551616e-03 -1.4280510e-03  6.4491653e-03\n",
            " -4.6173059e-03 -3.9930656e-03  4.9244044e-03  2.7130984e-03\n",
            " -1.8479753e-03 -2.8769434e-03  6.0107317e-03 -5.7167388e-03\n",
            " -3.2367026e-03 -6.4878250e-03 -4.2346325e-03 -8.5809948e-03\n",
            " -4.4697891e-03 -8.5112294e-03  1.4037776e-03 -8.6181965e-03\n",
            " -9.9166557e-03 -8.2016252e-03 -6.7726658e-03  6.6805850e-03\n",
            "  3.7845564e-03  3.5616636e-04 -2.9579818e-03 -7.4283206e-03\n",
            "  5.3341867e-04  4.9989222e-04  1.9561886e-04  8.5259555e-04\n",
            "  7.8633073e-04 -6.8160298e-05 -8.0070542e-03 -5.8702733e-03\n",
            " -8.3829118e-03 -1.3120425e-03  1.8206370e-03  7.4171280e-03\n",
            " -1.9634271e-03 -2.3252917e-03  9.4871549e-03  7.9704521e-05\n",
            " -2.4045217e-03  8.6048469e-03  2.6870037e-03 -5.3439722e-03\n",
            "  6.5881060e-03  4.5101536e-03 -7.0544672e-03 -3.2317400e-04\n",
            "  8.3448651e-04  5.7473574e-03 -1.7176545e-03 -2.8065301e-03\n",
            "  1.7484308e-03  8.4717153e-04  1.1928272e-03 -2.6342822e-03\n",
            " -5.9857843e-03  7.3229838e-03  7.5873756e-03  8.2963575e-03\n",
            " -8.5988473e-03  2.6364254e-03 -3.5599626e-03  9.6204039e-03\n",
            "  2.9037679e-03  4.6411133e-03  2.3856151e-03  6.6084778e-03\n",
            " -5.7432903e-03  7.8944126e-03 -2.4109220e-03 -4.5618857e-03\n",
            " -2.0609903e-03  9.7335577e-03 -6.8565905e-03 -2.1917201e-03\n",
            "  7.0009995e-03 -5.5749417e-05 -6.2949671e-03 -6.3935257e-03\n",
            "  8.9403950e-03  6.4295758e-03  4.7735930e-03 -3.2620477e-03\n",
            " -9.2676198e-03  3.7868882e-03  7.1605504e-03 -5.6328895e-03\n",
            " -7.8650126e-03 -2.9727400e-03 -4.9318983e-03 -2.3151112e-03]\n"
          ]
        }
      ]
    },
    {
      "cell_type": "markdown",
      "source": [
        "Combining Features"
      ],
      "metadata": {
        "id": "hNq5k4vhSUZx"
      }
    },
    {
      "cell_type": "code",
      "source": [
        "import numpy as np"
      ],
      "metadata": {
        "id": "6QRw6Z_zSZS5"
      },
      "execution_count": null,
      "outputs": []
    },
    {
      "cell_type": "code",
      "source": [
        "def get_combined_features(question):\n",
        "    tokens = preprocess(question)\n",
        "    tfidf_vector = vectorizer.transform([\" \".join(tokens)]).toarray().flatten()\n",
        "    word2vec_vectors = np.array([word2vec_model.wv[word] for word in tokens if word in word2vec_model.wv])\n",
        "    word2vec_vector = np.mean(word2vec_vectors, axis=0) if word2vec_vectors.size else np.zeros(100)\n",
        "    combined_vector = np.concatenate((tfidf_vector, word2vec_vector))\n",
        "    return combined_vector"
      ],
      "metadata": {
        "id": "4NDJAdjhSetx"
      },
      "execution_count": null,
      "outputs": []
    },
    {
      "cell_type": "code",
      "source": [
        "features = [get_combined_features(question) for question in questions]\n",
        "print(features)"
      ],
      "metadata": {
        "colab": {
          "base_uri": "https://localhost:8080/"
        },
        "id": "MpAnLbqsSgSB",
        "outputId": "76a8ec0d-0006-4d98-b09c-57b97db8ddcd"
      },
      "execution_count": null,
      "outputs": [
        {
          "output_type": "stream",
          "name": "stdout",
          "text": [
            "[array([ 7.07106781e-01,  0.00000000e+00,  0.00000000e+00,  0.00000000e+00,\n",
            "        0.00000000e+00,  0.00000000e+00,  0.00000000e+00,  0.00000000e+00,\n",
            "        0.00000000e+00,  0.00000000e+00,  7.07106781e-01,  0.00000000e+00,\n",
            "        8.42954498e-03,  3.29859182e-03,  4.61423537e-03, -2.19554012e-03,\n",
            "       -3.31068505e-03, -6.54776627e-03, -2.71575269e-03,  5.71919046e-03,\n",
            "       -4.21543233e-03, -6.15648553e-03,  6.66809082e-03, -5.16951783e-04,\n",
            "        3.38036031e-03, -3.88634740e-03,  4.96466272e-03, -3.97360884e-04,\n",
            "       -4.22046753e-04, -4.65331413e-03, -6.92753936e-04, -8.41861591e-03,\n",
            "       -3.61766433e-03, -5.55119384e-03,  4.32639197e-03, -6.04079990e-03,\n",
            "       -8.25817883e-03, -1.93059910e-03, -3.62357544e-03,  1.54151430e-03,\n",
            "        5.33351395e-03,  2.11423938e-03, -3.42909154e-03, -3.32821603e-03,\n",
            "        4.83846059e-03,  4.12727427e-03,  3.27874534e-03,  2.75994907e-03,\n",
            "        1.58541033e-03, -9.54893185e-04, -7.18917372e-03, -3.08604189e-03,\n",
            "       -4.97415010e-03, -9.42164101e-04, -2.22111703e-03,  7.42558762e-03,\n",
            "       -4.27745981e-03, -4.78228461e-03,  3.36500444e-03, -7.17847899e-04,\n",
            "       -5.02011925e-03,  4.65154415e-03, -1.31955382e-03, -3.30975815e-03,\n",
            "       -3.88502609e-04,  3.23536107e-03, -1.89063430e-03, -1.73156266e-04,\n",
            "       -2.30693584e-03,  2.01063557e-03,  2.68363114e-03,  4.64864308e-04,\n",
            "       -3.56630934e-03, -1.28318963e-03,  1.77346473e-03, -2.48131226e-04,\n",
            "       -7.72489607e-03,  5.94707485e-03, -5.34810824e-04,  4.54644673e-04,\n",
            "       -2.55786767e-03, -4.17266507e-04,  2.25414988e-06,  9.25724767e-03,\n",
            "       -3.35277291e-04,  6.98076934e-03,  2.04832666e-03,  8.22812598e-03,\n",
            "       -1.91235449e-05, -6.27535395e-04, -2.86932639e-03,  9.84144630e-04,\n",
            "        1.77089451e-03,  9.21953656e-03,  3.47560272e-05,  2.92358384e-03,\n",
            "       -1.41100446e-03,  2.12153792e-03, -5.66252181e-03, -1.44056987e-03,\n",
            "        7.49854138e-03,  5.41085377e-03,  6.14297623e-03, -8.82165972e-04,\n",
            "       -5.26628084e-03,  4.77764430e-03,  7.60491472e-04, -2.79714889e-03,\n",
            "        7.95787200e-04, -4.22699517e-03, -5.58809726e-04, -5.21406624e-03]), array([ 0.00000000e+00,  0.00000000e+00,  0.00000000e+00,  5.77350269e-01,\n",
            "        0.00000000e+00,  0.00000000e+00,  0.00000000e+00,  5.77350269e-01,\n",
            "        5.77350269e-01,  0.00000000e+00,  0.00000000e+00,  0.00000000e+00,\n",
            "       -2.18868908e-03, -7.23033969e-04,  1.79140491e-03,  8.60015955e-03,\n",
            "        7.51161351e-05, -1.20915484e-03,  3.30811925e-03, -1.06899266e-03,\n",
            "       -5.07772435e-03, -2.01183767e-03,  1.55990105e-03, -2.91233696e-03,\n",
            "        4.19462705e-03, -1.65269279e-03,  2.13289005e-03,  3.93887283e-03,\n",
            "        8.13606486e-04, -3.98911256e-03, -2.48573604e-03, -6.33198628e-03,\n",
            "        6.12610893e-04,  6.84992736e-03,  1.90612487e-03, -5.89138595e-03,\n",
            "        1.21053623e-03,  1.52805261e-03, -4.63737408e-03,  2.09497311e-03,\n",
            "       -2.60341517e-03, -1.46827160e-03,  2.79147620e-03,  5.90623298e-04,\n",
            "        2.93447077e-03,  4.11016122e-03, -3.96716595e-03,  2.87418789e-03,\n",
            "       -1.74715661e-03,  3.44593078e-03, -6.42014202e-04, -6.32999639e-04,\n",
            "        3.71972122e-03,  2.45203916e-03, -1.42615254e-03, -7.54435838e-04,\n",
            "        2.39468273e-03, -1.68674113e-03, -3.18223913e-03,  2.42994749e-03,\n",
            "        3.01675149e-03,  1.59925269e-03, -2.05424824e-03,  2.31311633e-03,\n",
            "        2.64146668e-03, -1.41914713e-03,  8.90647701e-04, -3.00704502e-04,\n",
            "       -3.60166351e-03,  6.73610426e-04,  3.84283415e-03, -3.51054739e-04,\n",
            "       -4.44373116e-04,  1.68928484e-04,  4.92216507e-03,  1.89732725e-03,\n",
            "       -4.16630087e-03,  3.34186800e-04, -6.24732533e-03,  1.99596281e-03,\n",
            "       -3.18668131e-03, -2.47297226e-03, -1.24437525e-03,  2.13597738e-03,\n",
            "        2.21335748e-03, -1.49434304e-03, -3.40432418e-03, -3.49178910e-03,\n",
            "        1.33738632e-03, -5.56510920e-03,  8.28991178e-05, -3.15888762e-03,\n",
            "       -1.34962646e-03, -3.48773506e-03, -1.23076106e-03,  3.85419070e-03,\n",
            "        2.94512999e-03, -2.23261560e-03, -6.80409197e-04,  1.20482279e-03,\n",
            "        4.24450403e-03,  2.66576838e-03, -4.00149403e-03,  1.90643396e-03,\n",
            "       -4.37245093e-04,  4.07076348e-03,  5.90992393e-03,  1.31126013e-04,\n",
            "       -2.79877218e-03,  2.80613638e-03,  6.44843886e-03, -2.11471436e-03]), array([ 0.00000000e+00,  5.25472749e-01,  0.00000000e+00,  0.00000000e+00,\n",
            "        4.14288751e-01,  5.25472749e-01,  0.00000000e+00,  0.00000000e+00,\n",
            "        0.00000000e+00,  5.25472749e-01,  0.00000000e+00,  0.00000000e+00,\n",
            "       -2.06760922e-03, -2.12691026e-04, -1.00383558e-03, -3.86582513e-04,\n",
            "       -3.80091835e-03, -3.86783038e-04,  4.55083465e-03,  3.69000458e-03,\n",
            "       -4.71783057e-03, -1.23070402e-03,  4.92914929e-04,  5.85159403e-04,\n",
            "       -5.18277381e-03,  2.08013668e-03, -4.37564589e-03, -3.81597038e-03,\n",
            "        7.26246973e-04,  1.93112658e-03, -8.32018093e-04, -6.25366904e-03,\n",
            "        6.92773028e-05, -1.61196862e-03,  8.02198891e-03,  4.72991122e-03,\n",
            "       -5.26755990e-04, -9.66408697e-04,  2.70413788e-04, -8.30570236e-04,\n",
            "       -3.60493944e-03,  2.89660646e-04,  2.92636920e-03,  3.69825691e-04,\n",
            "        1.36788201e-03, -5.45103010e-03,  2.14178581e-05,  6.90384186e-04,\n",
            "        1.03303953e-03, -1.51590002e-03, -3.91742680e-04, -3.88531666e-03,\n",
            "        2.25228560e-03, -3.73736047e-03, -4.36976738e-03, -1.21513219e-03,\n",
            "        2.20166380e-03, -1.87593861e-04, -3.15921009e-03,  1.84131507e-03,\n",
            "        1.17759674e-03, -5.48431766e-04, -4.14601294e-04, -2.08663056e-03,\n",
            "        1.26474490e-03,  1.92186714e-03, -2.67022825e-03, -4.60072048e-03,\n",
            "        5.95799414e-04, -8.04124679e-03, -4.64857789e-03, -3.31045734e-03,\n",
            "        2.84173200e-03, -2.77190702e-03,  3.53769306e-03, -3.39350547e-03,\n",
            "       -1.12475129e-03,  2.55864649e-03,  9.54820076e-04,  3.08770873e-03,\n",
            "       -5.47035597e-03, -5.88178635e-04,  8.99770530e-05,  6.72894064e-03,\n",
            "        1.66049518e-04,  1.21925562e-03,  3.37871467e-03,  2.07853690e-03,\n",
            "        7.44070276e-05,  4.37351596e-03,  5.66050876e-04, -1.95477903e-03,\n",
            "        1.16169313e-03, -4.49506287e-03,  1.78597937e-03, -6.81028294e-04,\n",
            "       -3.76519677e-03, -5.25601953e-03,  4.69955802e-03,  3.38062411e-04,\n",
            "       -5.21159591e-03,  1.20002357e-03,  2.78431689e-03,  1.21497537e-03,\n",
            "       -7.47871352e-04, -1.86150521e-03,  5.35994442e-03,  7.35359965e-04,\n",
            "        9.74470982e-04, -4.16281587e-03,  7.47997547e-04,  2.07548030e-03]), array([ 0.00000000e+00,  0.00000000e+00,  5.25472749e-01,  0.00000000e+00,\n",
            "        4.14288751e-01,  0.00000000e+00,  5.25472749e-01,  0.00000000e+00,\n",
            "        0.00000000e+00,  0.00000000e+00,  0.00000000e+00,  5.25472749e-01,\n",
            "       -4.32598218e-03,  4.06919885e-03,  8.20528716e-04,  2.85275187e-03,\n",
            "        2.60893954e-03, -2.50857603e-03,  1.65840017e-03,  6.15077419e-03,\n",
            "       -2.52714381e-03, -2.81090895e-03,  2.92876875e-03, -2.09884229e-03,\n",
            "        7.85404700e-04,  2.07200740e-03,  3.61070409e-03, -7.03100930e-04,\n",
            "        5.91601804e-03,  3.27036064e-03, -7.16513069e-03, -2.08105985e-03,\n",
            "        1.06653094e-03, -1.62709155e-03,  5.22003043e-03, -2.03491747e-03,\n",
            "        2.82439240e-03, -7.07392872e-04,  2.17477465e-03,  4.82614245e-03,\n",
            "       -3.44742043e-03,  1.79104053e-03,  2.14962196e-03, -4.13459307e-03,\n",
            "       -1.40176644e-03, -4.39438922e-03, -7.96800246e-04,  2.02175928e-03,\n",
            "        5.95586281e-03, -6.26232126e-04,  4.05540923e-04,  3.35105648e-03,\n",
            "       -9.66772204e-04,  1.22876163e-03, -3.13272420e-03, -1.89561411e-04,\n",
            "        2.04065768e-03,  3.73942265e-03,  6.45336229e-04,  7.47298705e-04,\n",
            "       -2.50037381e-04,  1.90557481e-03,  1.34321465e-03, -1.89576694e-03,\n",
            "       -5.24988584e-03, -3.29417270e-03, -1.92774064e-03, -5.36114210e-04,\n",
            "        3.41895502e-03,  1.21447572e-03, -1.28380931e-03,  2.27527739e-03,\n",
            "       -1.38593151e-03,  1.18874572e-03,  1.82493275e-03, -3.09512275e-03,\n",
            "       -2.09553342e-04,  2.86488631e-03,  3.42657347e-03,  3.33991111e-03,\n",
            "       -1.12961314e-03,  1.26074976e-03,  2.88379006e-03,  2.14180676e-04,\n",
            "        1.75418356e-03,  2.30499124e-03, -4.61020187e-04, -6.35561883e-04,\n",
            "        1.16010138e-03,  1.86543074e-03, -1.50975480e-03, -2.57451041e-03,\n",
            "       -3.56589956e-03,  1.07866793e-03,  1.60428241e-03,  7.50288018e-04,\n",
            "       -1.18687353e-03, -2.17683986e-03,  2.59488029e-03, -4.20252327e-03,\n",
            "        1.43846450e-03, -1.82522298e-03, -2.30454654e-03,  8.13270395e-04,\n",
            "        3.51377577e-03, -3.58103332e-03,  6.13764999e-03,  3.15972371e-03,\n",
            "        2.04513385e-03, -4.09177179e-03, -7.24704703e-04, -4.17712145e-04])]\n"
          ]
        }
      ]
    },
    {
      "cell_type": "markdown",
      "source": [
        "Classification"
      ],
      "metadata": {
        "id": "R52rlCBESmGZ"
      }
    },
    {
      "cell_type": "code",
      "source": [
        "from sklearn.model_selection import train_test_split\n",
        "from sklearn.ensemble import RandomForestClassifier\n",
        "from sklearn.metrics import classification_report"
      ],
      "metadata": {
        "id": "IfP_lgyBSocR"
      },
      "execution_count": null,
      "outputs": []
    },
    {
      "cell_type": "code",
      "source": [
        "X_train, X_test, y_train, y_test = train_test_split(features, labels, test_size=0.2, random_state=42)\n"
      ],
      "metadata": {
        "id": "Dp6aLwCESsY5"
      },
      "execution_count": null,
      "outputs": []
    },
    {
      "cell_type": "code",
      "source": [
        "clf = RandomForestClassifier()\n",
        "clf.fit(X_train, y_train)\n"
      ],
      "metadata": {
        "colab": {
          "base_uri": "https://localhost:8080/",
          "height": 74
        },
        "id": "03BkWb4SSu0i",
        "outputId": "f92a64a1-ff40-4bfb-9036-42be0f18965c"
      },
      "execution_count": null,
      "outputs": [
        {
          "output_type": "execute_result",
          "data": {
            "text/plain": [
              "RandomForestClassifier()"
            ],
            "text/html": [
              "<style>#sk-container-id-2 {color: black;background-color: white;}#sk-container-id-2 pre{padding: 0;}#sk-container-id-2 div.sk-toggleable {background-color: white;}#sk-container-id-2 label.sk-toggleable__label {cursor: pointer;display: block;width: 100%;margin-bottom: 0;padding: 0.3em;box-sizing: border-box;text-align: center;}#sk-container-id-2 label.sk-toggleable__label-arrow:before {content: \"▸\";float: left;margin-right: 0.25em;color: #696969;}#sk-container-id-2 label.sk-toggleable__label-arrow:hover:before {color: black;}#sk-container-id-2 div.sk-estimator:hover label.sk-toggleable__label-arrow:before {color: black;}#sk-container-id-2 div.sk-toggleable__content {max-height: 0;max-width: 0;overflow: hidden;text-align: left;background-color: #f0f8ff;}#sk-container-id-2 div.sk-toggleable__content pre {margin: 0.2em;color: black;border-radius: 0.25em;background-color: #f0f8ff;}#sk-container-id-2 input.sk-toggleable__control:checked~div.sk-toggleable__content {max-height: 200px;max-width: 100%;overflow: auto;}#sk-container-id-2 input.sk-toggleable__control:checked~label.sk-toggleable__label-arrow:before {content: \"▾\";}#sk-container-id-2 div.sk-estimator input.sk-toggleable__control:checked~label.sk-toggleable__label {background-color: #d4ebff;}#sk-container-id-2 div.sk-label input.sk-toggleable__control:checked~label.sk-toggleable__label {background-color: #d4ebff;}#sk-container-id-2 input.sk-hidden--visually {border: 0;clip: rect(1px 1px 1px 1px);clip: rect(1px, 1px, 1px, 1px);height: 1px;margin: -1px;overflow: hidden;padding: 0;position: absolute;width: 1px;}#sk-container-id-2 div.sk-estimator {font-family: monospace;background-color: #f0f8ff;border: 1px dotted black;border-radius: 0.25em;box-sizing: border-box;margin-bottom: 0.5em;}#sk-container-id-2 div.sk-estimator:hover {background-color: #d4ebff;}#sk-container-id-2 div.sk-parallel-item::after {content: \"\";width: 100%;border-bottom: 1px solid gray;flex-grow: 1;}#sk-container-id-2 div.sk-label:hover label.sk-toggleable__label {background-color: #d4ebff;}#sk-container-id-2 div.sk-serial::before {content: \"\";position: absolute;border-left: 1px solid gray;box-sizing: border-box;top: 0;bottom: 0;left: 50%;z-index: 0;}#sk-container-id-2 div.sk-serial {display: flex;flex-direction: column;align-items: center;background-color: white;padding-right: 0.2em;padding-left: 0.2em;position: relative;}#sk-container-id-2 div.sk-item {position: relative;z-index: 1;}#sk-container-id-2 div.sk-parallel {display: flex;align-items: stretch;justify-content: center;background-color: white;position: relative;}#sk-container-id-2 div.sk-item::before, #sk-container-id-2 div.sk-parallel-item::before {content: \"\";position: absolute;border-left: 1px solid gray;box-sizing: border-box;top: 0;bottom: 0;left: 50%;z-index: -1;}#sk-container-id-2 div.sk-parallel-item {display: flex;flex-direction: column;z-index: 1;position: relative;background-color: white;}#sk-container-id-2 div.sk-parallel-item:first-child::after {align-self: flex-end;width: 50%;}#sk-container-id-2 div.sk-parallel-item:last-child::after {align-self: flex-start;width: 50%;}#sk-container-id-2 div.sk-parallel-item:only-child::after {width: 0;}#sk-container-id-2 div.sk-dashed-wrapped {border: 1px dashed gray;margin: 0 0.4em 0.5em 0.4em;box-sizing: border-box;padding-bottom: 0.4em;background-color: white;}#sk-container-id-2 div.sk-label label {font-family: monospace;font-weight: bold;display: inline-block;line-height: 1.2em;}#sk-container-id-2 div.sk-label-container {text-align: center;}#sk-container-id-2 div.sk-container {/* jupyter's `normalize.less` sets `[hidden] { display: none; }` but bootstrap.min.css set `[hidden] { display: none !important; }` so we also need the `!important` here to be able to override the default hidden behavior on the sphinx rendered scikit-learn.org. See: https://github.com/scikit-learn/scikit-learn/issues/21755 */display: inline-block !important;position: relative;}#sk-container-id-2 div.sk-text-repr-fallback {display: none;}</style><div id=\"sk-container-id-2\" class=\"sk-top-container\"><div class=\"sk-text-repr-fallback\"><pre>RandomForestClassifier()</pre><b>In a Jupyter environment, please rerun this cell to show the HTML representation or trust the notebook. <br />On GitHub, the HTML representation is unable to render, please try loading this page with nbviewer.org.</b></div><div class=\"sk-container\" hidden><div class=\"sk-item\"><div class=\"sk-estimator sk-toggleable\"><input class=\"sk-toggleable__control sk-hidden--visually\" id=\"sk-estimator-id-2\" type=\"checkbox\" checked><label for=\"sk-estimator-id-2\" class=\"sk-toggleable__label sk-toggleable__label-arrow\">RandomForestClassifier</label><div class=\"sk-toggleable__content\"><pre>RandomForestClassifier()</pre></div></div></div></div></div>"
            ]
          },
          "metadata": {},
          "execution_count": 31
        }
      ]
    },
    {
      "cell_type": "code",
      "source": [
        "y_pred = clf.predict(X_test)\n",
        "print(classification_report(y_test, y_pred))"
      ],
      "metadata": {
        "colab": {
          "base_uri": "https://localhost:8080/"
        },
        "id": "6vy4NhCkSxIa",
        "outputId": "155bace0-a845-4ce4-fe55-405868e63548"
      },
      "execution_count": null,
      "outputs": [
        {
          "output_type": "stream",
          "name": "stdout",
          "text": [
            "              precision    recall  f1-score   support\n",
            "\n",
            "           1       0.00      0.00      0.00       0.0\n",
            "           4       0.00      0.00      0.00       1.0\n",
            "\n",
            "    accuracy                           0.00       1.0\n",
            "   macro avg       0.00      0.00      0.00       1.0\n",
            "weighted avg       0.00      0.00      0.00       1.0\n",
            "\n"
          ]
        },
        {
          "output_type": "stream",
          "name": "stderr",
          "text": [
            "/usr/local/lib/python3.10/dist-packages/sklearn/metrics/_classification.py:1344: UndefinedMetricWarning: Precision and F-score are ill-defined and being set to 0.0 in labels with no predicted samples. Use `zero_division` parameter to control this behavior.\n",
            "  _warn_prf(average, modifier, msg_start, len(result))\n",
            "/usr/local/lib/python3.10/dist-packages/sklearn/metrics/_classification.py:1344: UndefinedMetricWarning: Recall and F-score are ill-defined and being set to 0.0 in labels with no true samples. Use `zero_division` parameter to control this behavior.\n",
            "  _warn_prf(average, modifier, msg_start, len(result))\n",
            "/usr/local/lib/python3.10/dist-packages/sklearn/metrics/_classification.py:1344: UndefinedMetricWarning: Precision and F-score are ill-defined and being set to 0.0 in labels with no predicted samples. Use `zero_division` parameter to control this behavior.\n",
            "  _warn_prf(average, modifier, msg_start, len(result))\n",
            "/usr/local/lib/python3.10/dist-packages/sklearn/metrics/_classification.py:1344: UndefinedMetricWarning: Recall and F-score are ill-defined and being set to 0.0 in labels with no true samples. Use `zero_division` parameter to control this behavior.\n",
            "  _warn_prf(average, modifier, msg_start, len(result))\n",
            "/usr/local/lib/python3.10/dist-packages/sklearn/metrics/_classification.py:1344: UndefinedMetricWarning: Precision and F-score are ill-defined and being set to 0.0 in labels with no predicted samples. Use `zero_division` parameter to control this behavior.\n",
            "  _warn_prf(average, modifier, msg_start, len(result))\n",
            "/usr/local/lib/python3.10/dist-packages/sklearn/metrics/_classification.py:1344: UndefinedMetricWarning: Recall and F-score are ill-defined and being set to 0.0 in labels with no true samples. Use `zero_division` parameter to control this behavior.\n",
            "  _warn_prf(average, modifier, msg_start, len(result))\n"
          ]
        }
      ]
    }
  ]
}